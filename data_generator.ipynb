{
 "cells": [
  {
   "cell_type": "code",
   "execution_count": null,
   "metadata": {},
   "outputs": [],
   "source": [
    "import pandas as pd\n",
    "import random as random\n",
    "import numpy as np"
   ]
  },
  {
   "cell_type": "code",
   "execution_count": null,
   "metadata": {},
   "outputs": [],
   "source": [
    "class Generator:\n",
    "    \"\"\"Generator class for augmenation functions \"\"\"\n",
    "    \n",
    "    def __init__(self, data, batch_size, p):\n",
    "        self.data = data\n",
    "        self.batch_size = batch_size\n",
    "        self.p = p\n",
    "        \n",
    "        \n",
    "    def augmentation_1(self):\n",
    "        \"\"\"Augmentation one changes the total by a random multiple between 0.75 and 1.25 \n",
    "           and selects a new date at random from those already in the data\"\"\"\n",
    "        self.new_rec['total'] = round(self.new_rec['total'] * random.uniform(0.75,1.25),2)\n",
    "        self.new_rec['date'] = self.data['date'][random.choice(range(0,max(self.data.index)))]\n",
    "        \n",
    "    def augmentation_2(self):\n",
    "        \"\"\"Augmentation two changes the total by a random multiple between 0.75 and 1.25 \n",
    "           as above and then changes the name by finding the closest total in the \n",
    "           existing data to the augmented total that is in the same clas and taking that\n",
    "           records desription\"\"\"\n",
    "        self.new_rec['total'] = round(self.new_rec['total'] * random.uniform(0.75,1.25),2)\n",
    "        distance = abs(self.new_rec['total'] - self.data[self.data['class'] == self.new_rec['class']]['total'].iloc[0])\n",
    "        closest_point_index = 0\n",
    "        for j in range(1,len(self.data[self.data['class'] == self.new_rec['class']]['total'])):\n",
    "            distance_2 = abs(self.new_rec['total'] - self.data[self.data['class'] == self.new_rec['class']]['total'].iloc[j])\n",
    "            if distance_2 < distance:\n",
    "                distance = distance_2\n",
    "                closest_point_index = j\n",
    "        self.new_rec['name'] = self.data[self.data['class'] == self.new_rec['class']]['name'].iloc[closest_point_index]\n",
    "        self.data2 = self.data2.append(self.new_rec)\n",
    "            \n",
    "        \n",
    "    def __next__(self):\n",
    "        \"\"\"Creates new batch of augmented records using two different augmentations\"\"\"\n",
    "        \n",
    "        # Create random number to be compared to speficified probability, two created so augmentations are independent\n",
    "        aug_1_prob = random.uniform(0,1)\n",
    "        aug_2_prob = random.uniform(0,1)\n",
    "        \n",
    "        # Create new empty dataframe to append new batch of records into\n",
    "        self.data2 = pd.DataFrame(columns = ['transcation_id','date','total','name','class'])\n",
    "        \n",
    "        # Iterate for the speified batch size, creating a new row for each and running through augmentations\n",
    "        for i in range(self.batch_size):\n",
    "            self.new_rec = self.data.loc[random.choice(range(0,max(self.data.index)))]            \n",
    "            \n",
    "            # Compare random number to probability to see whether to proceed with augmentation 1\n",
    "            if self.p >= aug_1_prob:\n",
    "                self.augmentation_1()\n",
    "            \n",
    "            # Compare second random number to probability to see whether to proceed with augmentation 2\n",
    "            if self.p >= aug_2_prob:\n",
    "                self.augmentation_2()\n",
    "            else:\n",
    "                self.data2 = self.data2.append(self.new_rec)\n",
    "            \n",
    "        return self.data2"
   ]
  },
  {
   "cell_type": "code",
   "execution_count": null,
   "metadata": {},
   "outputs": [],
   "source": [
    "# Make sure this point to the location of where the data is saved\n",
    "df = pd.read_csv('data.csv')"
   ]
  },
  {
   "cell_type": "code",
   "execution_count": null,
   "metadata": {},
   "outputs": [],
   "source": [
    "gen = Generator(data=df, p=.5, batch_size=3)"
   ]
  },
  {
   "cell_type": "code",
   "execution_count": null,
   "metadata": {},
   "outputs": [],
   "source": [
    "next(gen)"
   ]
  },
  {
   "cell_type": "code",
   "execution_count": null,
   "metadata": {},
   "outputs": [],
   "source": [
    "next(gen)"
   ]
  },
  {
   "cell_type": "code",
   "execution_count": null,
   "metadata": {},
   "outputs": [],
   "source": [
    "next(gen)"
   ]
  },
  {
   "cell_type": "code",
   "execution_count": null,
   "metadata": {},
   "outputs": [],
   "source": []
  }
 ],
 "metadata": {
  "kernelspec": {
   "display_name": "Python 3",
   "language": "python",
   "name": "python3"
  },
  "language_info": {
   "codemirror_mode": {
    "name": "ipython",
    "version": 3
   },
   "file_extension": ".py",
   "mimetype": "text/x-python",
   "name": "python",
   "nbconvert_exporter": "python",
   "pygments_lexer": "ipython3",
   "version": "3.6.7"
  },
  "varInspector": {
   "cols": {
    "lenName": 16,
    "lenType": 16,
    "lenVar": 40
   },
   "kernels_config": {
    "python": {
     "delete_cmd_postfix": "",
     "delete_cmd_prefix": "del ",
     "library": "var_list.py",
     "varRefreshCmd": "print(var_dic_list())"
    },
    "r": {
     "delete_cmd_postfix": ") ",
     "delete_cmd_prefix": "rm(",
     "library": "var_list.r",
     "varRefreshCmd": "cat(var_dic_list()) "
    }
   },
   "types_to_exclude": [
    "module",
    "function",
    "builtin_function_or_method",
    "instance",
    "_Feature"
   ],
   "window_display": false
  }
 },
 "nbformat": 4,
 "nbformat_minor": 2
}
